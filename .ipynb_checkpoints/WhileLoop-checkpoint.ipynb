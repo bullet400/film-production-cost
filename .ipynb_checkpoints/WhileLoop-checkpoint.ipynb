{
 "cells": [
  {
   "cell_type": "code",
   "execution_count": 1,
   "metadata": {},
   "outputs": [
    {
     "name": "stdout",
     "output_type": "stream",
     "text": [
      "hello\n"
     ]
    }
   ],
   "source": [
    "print('hello')"
   ]
  },
  {
   "cell_type": "code",
   "execution_count": 2,
   "metadata": {},
   "outputs": [
    {
     "name": "stdout",
     "output_type": "stream",
     "text": [
      "Ama\n",
      "['Bullet', 'Akua Mansah', 'Aku', 'Yaw', 'Yaa', 'Lydia']\n"
     ]
    }
   ],
   "source": [
    "friends =['Bullet','Ama', 'Yaw', 'Yaa','Lydia']\n",
    "grades =[23,34,56,78,98,90,54,76,53,52,3,4,9, 23,9]\n",
    "print(friends[1])\n",
    "friends.insert(1,'Akua Mansah')\n",
    "friends[2]='Aku'\n",
    "print(friends)\n",
    "#print(grades.sort)"
   ]
  },
  {
   "cell_type": "code",
   "execution_count": 3,
   "metadata": {},
   "outputs": [],
   "source": [
    "#friends.clear()"
   ]
  },
  {
   "cell_type": "code",
   "execution_count": 4,
   "metadata": {},
   "outputs": [
    {
     "name": "stdout",
     "output_type": "stream",
     "text": [
      "['Bullet', 'Akua Mansah', 'Aku', 'Yaw', 'Yaa', 'Lydia']\n"
     ]
    }
   ],
   "source": [
    "friends.pop\n",
    "print(friends)"
   ]
  },
  {
   "cell_type": "code",
   "execution_count": 5,
   "metadata": {},
   "outputs": [
    {
     "name": "stdout",
     "output_type": "stream",
     "text": [
      "['Bullet', 'Akua Mansah', 'Aku', 'Yaw', 'Yaa', 'Lydia']\n"
     ]
    }
   ],
   "source": [
    "friends.index(\"Bullet\")\n",
    "print(friends)"
   ]
  },
  {
   "cell_type": "code",
   "execution_count": 6,
   "metadata": {},
   "outputs": [
    {
     "name": "stdout",
     "output_type": "stream",
     "text": [
      "None\n"
     ]
    }
   ],
   "source": [
    "print(friends.insert(2,'Bullet'))"
   ]
  },
  {
   "cell_type": "code",
   "execution_count": 7,
   "metadata": {},
   "outputs": [
    {
     "name": "stdout",
     "output_type": "stream",
     "text": [
      "['Bullet', 'Akua Mansah', 'Bullet', 'Aku', 'Yaw', 'Yaa', 'Lydia']\n"
     ]
    }
   ],
   "source": [
    "print(friends)"
   ]
  },
  {
   "cell_type": "code",
   "execution_count": 8,
   "metadata": {},
   "outputs": [
    {
     "name": "stdout",
     "output_type": "stream",
     "text": [
      "['Bullet', 'Akua Mansah', 'Bullet', 'Aku', 'Yaw', 'Yaa', 'Lydia']\n"
     ]
    }
   ],
   "source": [
    "print(friends)"
   ]
  },
  {
   "cell_type": "code",
   "execution_count": 9,
   "metadata": {},
   "outputs": [
    {
     "name": "stdout",
     "output_type": "stream",
     "text": [
      "2\n"
     ]
    }
   ],
   "source": [
    "print(friends.count('Bullet'))"
   ]
  },
  {
   "cell_type": "code",
   "execution_count": 10,
   "metadata": {},
   "outputs": [
    {
     "name": "stdout",
     "output_type": "stream",
     "text": [
      "['Aku', 'Akua Mansah', 'Bullet', 'Bullet', 'Lydia', 'Yaa', 'Yaw']\n"
     ]
    }
   ],
   "source": [
    "friends.sort()\n",
    "print(friends)"
   ]
  },
  {
   "cell_type": "code",
   "execution_count": 11,
   "metadata": {},
   "outputs": [
    {
     "name": "stdout",
     "output_type": "stream",
     "text": [
      "[3, 4, 9, 9, 23, 23, 34, 52, 53, 54, 56, 76, 78, 90, 98]\n"
     ]
    }
   ],
   "source": [
    "grades.sort()\n",
    "print(grades)"
   ]
  },
  {
   "cell_type": "code",
   "execution_count": 12,
   "metadata": {},
   "outputs": [
    {
     "name": "stdout",
     "output_type": "stream",
     "text": [
      "['Yaw', 'Yaa', 'Lydia', 'Bullet', 'Bullet', 'Akua Mansah', 'Aku']\n"
     ]
    }
   ],
   "source": [
    "friends.reverse()\n",
    "print(friends)"
   ]
  },
  {
   "cell_type": "code",
   "execution_count": 18,
   "metadata": {},
   "outputs": [
    {
     "name": "stdout",
     "output_type": "stream",
     "text": [
      "[98, 90, 78, 76, 56, 54, 53, 52, 34, 23, 23, 9, 9, 4, 3]\n"
     ]
    }
   ],
   "source": [
    "grades2 =grades.copy()\n",
    "grades2.reverse()\n",
    "print(grades2)"
   ]
  },
  {
   "cell_type": "code",
   "execution_count": 26,
   "metadata": {},
   "outputs": [
    {
     "name": "stdout",
     "output_type": "stream",
     "text": [
      "[(9, 9), (23, 23), (34, 52), (53, 54), (56, 76)]\n"
     ]
    }
   ],
   "source": [
    "cordinates=[(93, 4), (9, 9), (23, 23), (34, 52), (53, 54), (56, 76), (78, 90)]\n",
    "print(cordinates[1:6])"
   ]
  },
  {
   "cell_type": "code",
   "execution_count": 29,
   "metadata": {},
   "outputs": [
    {
     "name": "stdout",
     "output_type": "stream",
     "text": [
      "93\n"
     ]
    }
   ],
   "source": [
    "cordinates=(93, 4)\n",
    "print(cordinates[0])"
   ]
  },
  {
   "cell_type": "code",
   "execution_count": 48,
   "metadata": {},
   "outputs": [
    {
     "name": "stdout",
     "output_type": "stream",
     "text": [
      "The total amount is is\n",
      "Enter first number :34\n",
      "Enter Second number :6\n",
      "Thanks for visiting our shop\n"
     ]
    }
   ],
   "source": [
    "def Sum(num1, num2):\n",
    "    num1 =int(input(\"Enter first number :\"))\n",
    "    num2 =int(input(\"Enter Second number :\"))\n",
    "    totalsum =num1 * num2\n",
    "    return totalsum\n",
    "print('The total amount is is')#top\n",
    "Sum(3,5)\n",
    "print('Thanks for visiting our shop') #Botom of the fnx"
   ]
  },
  {
   "cell_type": "code",
   "execution_count": 49,
   "metadata": {},
   "outputs": [
    {
     "name": "stdout",
     "output_type": "stream",
     "text": [
      "Hello and how are u doing\n"
     ]
    }
   ],
   "source": [
    "def greetuser():\n",
    "    print('Hello and how are u doing')\n",
    "    \n",
    "greetuser()"
   ]
  },
  {
   "cell_type": "code",
   "execution_count": 50,
   "metadata": {},
   "outputs": [
    {
     "name": "stdout",
     "output_type": "stream",
     "text": [
      "My pet is called  Pease\n",
      "My pet called Pease is a type of  Cat\n"
     ]
    }
   ],
   "source": [
    "def describe_pet(animal_name, animal_type):\n",
    "    print('My pet is called ', animal_name)\n",
    "    print('My pet called '+animal_name+' is a type of ',animal_type)\n",
    "describe_pet('Pease','Cat')"
   ]
  },
  {
   "cell_type": "code",
   "execution_count": 66,
   "metadata": {},
   "outputs": [
    {
     "name": "stdout",
     "output_type": "stream",
     "text": [
      "the quantity is 67\n",
      "The unit price is 34\n",
      "the quantity is 63\n",
      "The unit price is 4\n",
      "the quantity is 6\n",
      "The unit price is 4\n"
     ]
    }
   ],
   "source": [
    "def total_amount(quantity, unit_price,**tax):\n",
    "    #quantity=input('Enter the total number ')\n",
    "    #unit price=input('Enter the unit price ')\n",
    "    #total_amount =quantity + unit price\n",
    "    print('the quantity is',quantity)\n",
    "    print('The unit price is',unit_price)\n",
    "\n",
    "total_amount(67,34)\n",
    "total_amount(63,4)\n",
    "total_amount(6,4)\n"
   ]
  },
  {
   "cell_type": "code",
   "execution_count": 73,
   "metadata": {},
   "outputs": [
    {
     "name": "stdout",
     "output_type": "stream",
     "text": [
      "My pet is called  Pease\n",
      "My pet called Pease is a type of  CAT\n"
     ]
    }
   ],
   "source": [
    "def describes_pet(animal_name, animal_type='dog'):\n",
    "    print('My pet is called ', animal_name)\n",
    "    print('My pet called '+animal_name+' is a type of ',animal_type.upper())\n",
    "describes_pet(animal_name='Pease',animal_type='Cat')"
   ]
  },
  {
   "cell_type": "code",
   "execution_count": 75,
   "metadata": {},
   "outputs": [
    {
     "name": "stdout",
     "output_type": "stream",
     "text": [
      "My pet is called  Jmaes\n",
      "My pet called Jmaes is a type of  DOG\n"
     ]
    }
   ],
   "source": [
    "describes_pet(animal_name='Jmaes')"
   ]
  },
  {
   "cell_type": "code",
   "execution_count": 83,
   "metadata": {},
   "outputs": [
    {
     "name": "stdout",
     "output_type": "stream",
     "text": [
      "Bullet Amponsah\n"
     ]
    }
   ],
   "source": [
    "def get_fullname(firstname, lastname):\n",
    "    fullname =firstname+\" \"+lastname\n",
    "    return fullname\n",
    "username =get_fullname('Bullet','Amponsah')\n",
    "print(username)"
   ]
  },
  {
   "cell_type": "code",
   "execution_count": 91,
   "metadata": {},
   "outputs": [
    {
     "name": "stdout",
     "output_type": "stream",
     "text": [
      "The total cost of product is $2358\n"
     ]
    }
   ],
   "source": [
    "def total_amount(quantity, price=3):\n",
    "    amount =quantity * price\n",
    "    return amount\n",
    "get_sum =total_amount(quantity=786)\n",
    "print('The total cost of product is $'+ str(get_sum))"
   ]
  },
  {
   "cell_type": "code",
   "execution_count": 100,
   "metadata": {},
   "outputs": [
    {
     "name": "stdout",
     "output_type": "stream",
     "text": [
      "Bullet AKua James\n",
      "Bullet James\n",
      "Bullet\n"
     ]
    }
   ],
   "source": [
    "def get_full_name(first_name, last_name='', middle_name=''):\n",
    "    if middle_name:\n",
    "        fullname =first_name+\" \"+middle_name +\" \"+last_name\n",
    "    elif last_name or middle_name:\n",
    "        fullname =first_name+\" \"+last_name\n",
    "    else:\n",
    "        fullname =first_name\n",
    "    return fullname\n",
    "username =get_full_name('Bullet', 'James','AKua')\n",
    "username1 =get_full_name('Bullet', 'James')\n",
    "username2 =get_full_name('Bullet')\n",
    "print(username)\n",
    "print(username1)\n",
    "print(username2)\n",
    "        \n",
    "    "
   ]
  },
  {
   "cell_type": "code",
   "execution_count": 103,
   "metadata": {},
   "outputs": [
    {
     "name": "stdout",
     "output_type": "stream",
     "text": [
      "{'first': 'Andrews', 'last': 'Oberko'}\n"
     ]
    }
   ],
   "source": [
    "#dictionary with a function\n",
    "def dic_person(first_name, last_name):\n",
    "    person={'first':first_name, 'last':last_name}\n",
    "    return person\n",
    "get_result=dic_person('Andrews','Oberko')\n",
    "print(get_result)"
   ]
  },
  {
   "cell_type": "code",
   "execution_count": 117,
   "metadata": {},
   "outputs": [
    {
     "ename": "NameError",
     "evalue": "name 'f_name' is not defined",
     "output_type": "error",
     "traceback": [
      "\u001b[1;31m---------------------------------------------------------------------------\u001b[0m",
      "\u001b[1;31mNameError\u001b[0m                                 Traceback (most recent call last)",
      "\u001b[1;32m<ipython-input-117-99119362da9b>\u001b[0m in \u001b[0;36m<module>\u001b[1;34m\u001b[0m\n\u001b[0;32m     10\u001b[0m             \u001b[1;32mbreak\u001b[0m\u001b[1;33m\u001b[0m\u001b[1;33m\u001b[0m\u001b[0m\n\u001b[0;32m     11\u001b[0m \u001b[1;33m\u001b[0m\u001b[0m\n\u001b[1;32m---> 12\u001b[1;33m \u001b[0mresult\u001b[0m \u001b[1;33m=\u001b[0m\u001b[0mdics_person\u001b[0m\u001b[1;33m(\u001b[0m\u001b[0mf_name\u001b[0m\u001b[1;33m,\u001b[0m\u001b[0ml_name\u001b[0m\u001b[1;33m)\u001b[0m\u001b[1;33m\u001b[0m\u001b[1;33m\u001b[0m\u001b[0m\n\u001b[0m\u001b[0;32m     13\u001b[0m \u001b[0mprint\u001b[0m\u001b[1;33m(\u001b[0m\u001b[0mresult\u001b[0m\u001b[1;33m)\u001b[0m\u001b[1;33m\u001b[0m\u001b[1;33m\u001b[0m\u001b[0m\n",
      "\u001b[1;31mNameError\u001b[0m: name 'f_name' is not defined"
     ]
    }
   ],
   "source": [
    "def dics_person(f_name, l_name):\n",
    "    full_name =f_name+\" \"+l_name\n",
    "    return full_name\n",
    "    while True:\n",
    "        print(\"\\nPlease tell me your name:\")\n",
    "        print(\"(enter 'q' at any time to quit)\")\n",
    "        f_name =input('Enter first name ')\n",
    "        if f_name =='q':\n",
    "            break\n",
    "        l_name =input('Enter last name ')\n",
    "        if l_name =='q':\n",
    "            break\n",
    "\n",
    "result =dics_person(f_name,l_name)\n",
    "print(result)"
   ]
  },
  {
   "cell_type": "code",
   "execution_count": 120,
   "metadata": {},
   "outputs": [
    {
     "ename": "NameError",
     "evalue": "name 'f_name' is not defined",
     "output_type": "error",
     "traceback": [
      "\u001b[1;31m---------------------------------------------------------------------------\u001b[0m",
      "\u001b[1;31mNameError\u001b[0m                                 Traceback (most recent call last)",
      "\u001b[1;32m<ipython-input-120-a0b0e964cde8>\u001b[0m in \u001b[0;36m<module>\u001b[1;34m\u001b[0m\n\u001b[0;32m     11\u001b[0m         \u001b[1;32mif\u001b[0m \u001b[0ml_name\u001b[0m \u001b[1;33m==\u001b[0m \u001b[1;34m'q'\u001b[0m\u001b[1;33m:\u001b[0m\u001b[1;33m\u001b[0m\u001b[1;33m\u001b[0m\u001b[0m\n\u001b[0;32m     12\u001b[0m             \u001b[1;32mbreak\u001b[0m\u001b[1;33m\u001b[0m\u001b[1;33m\u001b[0m\u001b[0m\n\u001b[1;32m---> 13\u001b[1;33m \u001b[0mformatted_name\u001b[0m \u001b[1;33m=\u001b[0m \u001b[0mget_formatted_name\u001b[0m\u001b[1;33m(\u001b[0m\u001b[0mf_name\u001b[0m\u001b[1;33m,\u001b[0m \u001b[0ml_name\u001b[0m\u001b[1;33m)\u001b[0m\u001b[1;33m\u001b[0m\u001b[1;33m\u001b[0m\u001b[0m\n\u001b[0m\u001b[0;32m     14\u001b[0m \u001b[0mprint\u001b[0m\u001b[1;33m(\u001b[0m\u001b[1;34m\"\\nHello, \"\u001b[0m \u001b[1;33m+\u001b[0m \u001b[0mformatted_name\u001b[0m \u001b[1;33m+\u001b[0m \u001b[1;34m\"!\"\u001b[0m\u001b[1;33m)\u001b[0m\u001b[1;33m\u001b[0m\u001b[1;33m\u001b[0m\u001b[0m\n",
      "\u001b[1;31mNameError\u001b[0m: name 'f_name' is not defined"
     ]
    }
   ],
   "source": [
    "def get_formatted_name(first_name, last_name):\n",
    "    full_name = first_name + ' ' + last_name\n",
    "    return full_name.title()\n",
    "    while True:\n",
    "        print(\"\\nPlease tell me your name:\")\n",
    "        print(\"(enter 'q' at any time to quit)\")\n",
    "        f_name = input(\"First name: \")\n",
    "        if f_name == 'q':\n",
    "            break\n",
    "        l_name = input(\"Last name: \")\n",
    "        if l_name == 'q':\n",
    "            break\n",
    "formatted_name = get_formatted_name(f_name, l_name)\n",
    "print(\"\\nHello, \" + formatted_name + \"!\")"
   ]
  },
  {
   "cell_type": "code",
   "execution_count": null,
   "metadata": {},
   "outputs": [],
   "source": []
  }
 ],
 "metadata": {
  "kernelspec": {
   "display_name": "Python 3",
   "language": "python",
   "name": "python3"
  },
  "language_info": {
   "codemirror_mode": {
    "name": "ipython",
    "version": 3
   },
   "file_extension": ".py",
   "mimetype": "text/x-python",
   "name": "python",
   "nbconvert_exporter": "python",
   "pygments_lexer": "ipython3",
   "version": "3.7.3"
  }
 },
 "nbformat": 4,
 "nbformat_minor": 2
}
