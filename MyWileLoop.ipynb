{
 "cells": [
  {
   "cell_type": "code",
   "execution_count": 9,
   "metadata": {},
   "outputs": [
    {
     "name": "stdout",
     "output_type": "stream",
     "text": [
      "1\n",
      "3\n",
      "5\n",
      "7\n",
      "9\n"
     ]
    }
   ],
   "source": [
    "counter =1\n",
    "while counter < 10:\n",
    "    print (counter)\n",
    "    counter = counter + 2\n",
    "    \n"
   ]
  },
  {
   "cell_type": "code",
   "execution_count": 13,
   "metadata": {},
   "outputs": [
    {
     "name": "stdout",
     "output_type": "stream",
     "text": [
      "5\n",
      "4\n",
      "3\n",
      "2\n"
     ]
    }
   ],
   "source": [
    "counter =5\n",
    "while counter > 1:\n",
    "    print(counter)\n",
    "    counter -=1\n",
    "    "
   ]
  },
  {
   "cell_type": "code",
   "execution_count": 15,
   "metadata": {},
   "outputs": [],
   "source": [
    "employee_file=open('employee_file','w')\n",
    "employee_file.write(\"We thought you'd like to know that SUKHAD RETAILS dispatched (s)your item\")\n",
    "employee_file.close()"
   ]
  },
  {
   "cell_type": "code",
   "execution_count": 7,
   "metadata": {},
   "outputs": [
    {
     "name": "stdout",
     "output_type": "stream",
     "text": [
      "We thought you'd like to know that SUKHAD RETAILS dispatched (s)your item\n"
     ]
    }
   ],
   "source": [
    "employee_data =open('employee_file', 'r')\n",
    "print(employee_data.read())"
   ]
  },
  {
   "cell_type": "code",
   "execution_count": 10,
   "metadata": {},
   "outputs": [
    {
     "name": "stdout",
     "output_type": "stream",
     "text": [
      "Please find attached a document containing my details for the scholarship application.\n"
     ]
    }
   ],
   "source": [
    "bullet =open('Bullet.text', 'w')\n",
    "bullet.write(\"Please find attached a document containing my details for the scholarship application.\")\n",
    "bullet =open('Bullet.text', 'r')\n",
    "print(bullet.read())"
   ]
  },
  {
   "cell_type": "code",
   "execution_count": 17,
   "metadata": {},
   "outputs": [
    {
     "name": "stdout",
     "output_type": "stream",
     "text": [
      "['Please find attached a document containing my details for the scholarship application. Please find attached a document containing my details for the scholarship application. Please find attached a document containing my details for the scholarship application. Please find attached a document containing my details for the scholarship application.']\n"
     ]
    }
   ],
   "source": [
    "bullet =open('Bullet.text', 'w')\n",
    "bullet.write(\"Please find attached a document containing my details for the scholarship application. Please find attached a document containing my details for the scholarship application. Please find attached a document containing my details for the scholarship application. Please find attached a document containing my details for the scholarship application.\")\n",
    "bullet.close()\n",
    "bullet=open('Bullet.text','r')\n",
    "print(bullet.readlines())"
   ]
  },
  {
   "cell_type": "code",
   "execution_count": 19,
   "metadata": {},
   "outputs": [
    {
     "name": "stdout",
     "output_type": "stream",
     "text": [
      "Can not delete the file\n"
     ]
    }
   ],
   "source": [
    "import os\n",
    "if os.path.exists('Bullet.txt'):\n",
    "    os.remove('Bullet.text')\n",
    "else:\n",
    "    print('Can not delete the file')"
   ]
  },
  {
   "cell_type": "code",
   "execution_count": null,
   "metadata": {},
   "outputs": [],
   "source": []
  }
 ],
 "metadata": {
  "kernelspec": {
   "display_name": "Python 3",
   "language": "python",
   "name": "python3"
  },
  "language_info": {
   "codemirror_mode": {
    "name": "ipython",
    "version": 3
   },
   "file_extension": ".py",
   "mimetype": "text/x-python",
   "name": "python",
   "nbconvert_exporter": "python",
   "pygments_lexer": "ipython3",
   "version": "3.7.3"
  }
 },
 "nbformat": 4,
 "nbformat_minor": 2
}
