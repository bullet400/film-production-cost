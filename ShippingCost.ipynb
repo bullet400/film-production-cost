{
 "cells": [
  {
   "cell_type": "code",
   "execution_count": 20,
   "metadata": {},
   "outputs": [
    {
     "name": "stdout",
     "output_type": "stream",
     "text": [
      "Please enter the number of widget to buy980\n",
      "Please enter your country: usa\n",
      "The country to ship to is usa  but we do not yet ship to this country!\n",
      "Sorry for any inconvinience caused. We hope to start shipping to Usa\n",
      "Thank your for doing business with us!!\n"
     ]
    }
   ],
   "source": [
    "#calculating the shipping cost dependingon country and number of widget bougt\n",
    "NOT_YET ='We are not shipping to your country yet'\n",
    "def CalShipPrice(country, nWidget):\n",
    "    if (country =='US') or (country =='USA') or (country =='U.S.A') or (country =='united state of america'):\n",
    "        if nWidget <=50:\n",
    "            CostPrice =6.25\n",
    "        elif nWidget <= 100:\n",
    "            CostPrice =9.50\n",
    "        elif nWidget <= 150:\n",
    "            CostPrice =12.75\n",
    "        else:\n",
    "            CostPrice =15.00\n",
    "    elif country =='canada':\n",
    "        if nWidget <=50:\n",
    "            CostPrice =8.25\n",
    "        elif nWidget <=100:\n",
    "            CostPrice =12.50\n",
    "        elif nWidget <=50:\n",
    "            CostPrice =18.75\n",
    "        else:\n",
    "            CostPrice =25.00\n",
    "    else:\n",
    "        CostPrice ='NOT_YET'\n",
    "    return CostPrice\n",
    "#totalAmount =CalShipPrice('userCountry',userNumber)\n",
    "#print('Your product will be shipped  and the total cost is',totalAmount)\n",
    "numWidget =input('Please enter the number of widget to buy')\n",
    "numWidget =int(numWidget)\n",
    "userCountry =input('Please enter your country: ')\n",
    "totalShipCost =CalShipPrice(userCountry, numWidget)\n",
    "if totalShipCost =='NOT_YET':\n",
    "    print('The country to ship to is', userCountry,' but we do not yet ship to this country!')\n",
    "    print('Sorry for any inconvinience caused. We hope to start shipping to', userCountry.title())\n",
    "else:\n",
    "    print('The total number of product is', numWidget,'and will be ship to', userCountry.title(), 'and the total amount is',totalShipCost)\n",
    "print('Thank your for doing business with us!!')"
   ]
  },
  {
   "cell_type": "code",
   "execution_count": null,
   "metadata": {},
   "outputs": [],
   "source": []
  },
  {
   "cell_type": "code",
   "execution_count": null,
   "metadata": {},
   "outputs": [],
   "source": []
  }
 ],
 "metadata": {
  "kernelspec": {
   "display_name": "Python 3",
   "language": "python",
   "name": "python3"
  },
  "language_info": {
   "codemirror_mode": {
    "name": "ipython",
    "version": 3
   },
   "file_extension": ".py",
   "mimetype": "text/x-python",
   "name": "python",
   "nbconvert_exporter": "python",
   "pygments_lexer": "ipython3",
   "version": "3.7.3"
  }
 },
 "nbformat": 4,
 "nbformat_minor": 2
}
